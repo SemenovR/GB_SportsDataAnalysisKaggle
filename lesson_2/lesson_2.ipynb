{
 "cells": [
  {
   "cell_type": "markdown",
   "metadata": {},
   "source": [
    "## Урок 2: Построение надежной локальной валидации"
   ]
  },
  {
   "cell_type": "markdown",
   "metadata": {},
   "source": [
    "Задание на повторение:\n",
    "Задание не обязательно к выполнению, но очень рекомендуется для понимания набора данных и получения гипотез для проведения валидации.\n",
    "* Задание 1: Построить график распределения времени совершения транзакции для обучающей / тестовой выборки, сделать выводы о том, как разбиты данные и какие виды валидации могут подойти для данной задачи.\n",
    "* Задание 2: построить scatter-plot зависимости суммы транзакции от времени совершения транзакции. Построить графики для обучающей выборки и для тестовой выборки, для обучающей выборки - построить как для целевой переменной = 0, так и для переменной = 1. Сделать выводы.\n",
    "* Задание 3: построить распределение признака TransactionAmt в логарифмическом масштабе, сделать выводы о близости распредления к нормальному распределению. Построить распределение признака в логарифмическому масштабе для обучающей выборк и для тестовой выборки, сделать выводы.\n",
    "* Задание 4: построить распределение признака целевой переменной в зависимости от значений категориальных признаков ProductCD, card4, card6. Сделать выводы.\n",
    "\n",
    "Основное задание:\n",
    "Даны выборки для обучения и для тестирования. Задание заключается в том, чтобы попробовать разные способы валидации, проанализировать плюсы / минусы каждой и сделать выводы о том, какой способ валидации наиболее устойчивый в данной задаче. Метрика качества для оценки прогнозов - ROC-AUC, название целевой переменной - IsFraud. Рекомендуется использовать модели градиетного бустинга, реализация любая.\n",
    "\n",
    "* Задание 1: сделать Hold-Out валидацию с разбиением, размер которого будет адеквтаным, по вашему мнению; разбиение проводить по id-транзакции (TransactionID), обучать модель градиетного бустинга любой реализации с подбором числа деревьев по early_stopping критерию до достижения сходимости. Оценить качество модели на тестовой выборке, оценить расхождение по сравнению с качеством на обучающей выборке и тестовой выборке.\n",
    "\n",
    "* Задание 2: сделать Hold-Out валидацию с разбиением на 3 выборки, разбиение проводить по id-транзакции (TransactionID), размер каждой выборки подобрать самостоятельно. Повторить процедуру из п.1.\n",
    "\n",
    "* Задание 3: построить доверительный интервал на данных из п.2 на основе бутстреп выборок, оценить качество модели на тестовом выборке относительно полученного доверительного интервала. Сделать выводы.\n",
    "\n",
    "* Задание 4: выполнить Adversarial Validation на основе данных из обучения / теста, подобрать объема из обучающей выборки, которые сильно похожи на объекты из тестовой выборки, и использовать их в качестве валидационного набора. Сделать выводы о полученных результатах.\n",
    "\n",
    "* Задание 5: сделать KFold / StratifiedKFold валидацию (на ваше усмотрение), оценить получаемые качество и разброс по метрике качества. Сделать выводы об устойчивости кросс-валидации, сходимости оценки на кросс-валидации и отложенном наборе данных;\n",
    "\n",
    "* Задание 6 * (опциональное): сделать Hold-Out валидацию по времени (TransactionDT), повторить процедуры из п.1 / п.2 (на ваш выбор). Построить доверительный интервал, сравнить качество на тестовой выборке с полученным доверительным интервалом. Сделать выводы.\n",
    "\n",
    "* Задание 7 ** (совсем опциональное): в данном наборе данных у нас есть ID-транзакции (TransactionID) и время транзакции (TransactionDT), но отсутствует ID-клиента, который совершал транзакции. Кажется, что в этой задаче валидация по клиенту работала бы хорошо. Предложить критерий, по которому можно выделить клиентов и сделать п.5, используя созданное определение клиента, используя валидацию по клиенту (GroupKFold)."
   ]
  },
  {
   "cell_type": "code",
   "execution_count": 697,
   "metadata": {},
   "outputs": [],
   "source": [
    "import warnings\n",
    "import numpy as np\n",
    "import pandas as pd\n",
    "import seaborn as sns\n",
    "import catboost as catb\n",
    "import matplotlib.pyplot as plt\n",
    "\n",
    "from tqdm import tqdm\n",
    "from typing import List, Tuple\n",
    "from scipy.stats import probplot\n",
    "from sklearn.metrics import roc_auc_score\n",
    "from sklearn.model_selection import KFold, StratifiedKFold, train_test_split, cross_val_score, GridSearchCV\n",
    "from sklearn.model_selection import TimeSeriesSplit\n",
    "warnings.simplefilter(\"ignore\")\n",
    "%matplotlib inline"
   ]
  },
  {
   "cell_type": "markdown",
   "metadata": {},
   "source": [
    "### Загрузка данных"
   ]
  },
  {
   "cell_type": "code",
   "execution_count": 214,
   "metadata": {},
   "outputs": [],
   "source": [
    "rs = 47 # random_state"
   ]
  },
  {
   "cell_type": "code",
   "execution_count": 215,
   "metadata": {},
   "outputs": [
    {
     "data": {
      "text/html": [
       "<div>\n",
       "<style scoped>\n",
       "    .dataframe tbody tr th:only-of-type {\n",
       "        vertical-align: middle;\n",
       "    }\n",
       "\n",
       "    .dataframe tbody tr th {\n",
       "        vertical-align: top;\n",
       "    }\n",
       "\n",
       "    .dataframe thead th {\n",
       "        text-align: right;\n",
       "    }\n",
       "</style>\n",
       "<table border=\"1\" class=\"dataframe\">\n",
       "  <thead>\n",
       "    <tr style=\"text-align: right;\">\n",
       "      <th></th>\n",
       "      <th>TransactionID</th>\n",
       "      <th>isFraud</th>\n",
       "      <th>TransactionDT</th>\n",
       "      <th>TransactionAmt</th>\n",
       "      <th>ProductCD</th>\n",
       "      <th>card1</th>\n",
       "      <th>card2</th>\n",
       "      <th>card3</th>\n",
       "      <th>card4</th>\n",
       "      <th>card5</th>\n",
       "      <th>...</th>\n",
       "      <th>V330</th>\n",
       "      <th>V331</th>\n",
       "      <th>V332</th>\n",
       "      <th>V333</th>\n",
       "      <th>V334</th>\n",
       "      <th>V335</th>\n",
       "      <th>V336</th>\n",
       "      <th>V337</th>\n",
       "      <th>V338</th>\n",
       "      <th>V339</th>\n",
       "    </tr>\n",
       "  </thead>\n",
       "  <tbody>\n",
       "    <tr>\n",
       "      <th>0</th>\n",
       "      <td>3062000</td>\n",
       "      <td>0</td>\n",
       "      <td>1643492</td>\n",
       "      <td>41.0</td>\n",
       "      <td>W</td>\n",
       "      <td>9500</td>\n",
       "      <td>321.0</td>\n",
       "      <td>150.0</td>\n",
       "      <td>visa</td>\n",
       "      <td>226.0</td>\n",
       "      <td>...</td>\n",
       "      <td>NaN</td>\n",
       "      <td>NaN</td>\n",
       "      <td>NaN</td>\n",
       "      <td>NaN</td>\n",
       "      <td>NaN</td>\n",
       "      <td>NaN</td>\n",
       "      <td>NaN</td>\n",
       "      <td>NaN</td>\n",
       "      <td>NaN</td>\n",
       "      <td>NaN</td>\n",
       "    </tr>\n",
       "    <tr>\n",
       "      <th>1</th>\n",
       "      <td>3062001</td>\n",
       "      <td>1</td>\n",
       "      <td>1643513</td>\n",
       "      <td>161.0</td>\n",
       "      <td>W</td>\n",
       "      <td>6668</td>\n",
       "      <td>390.0</td>\n",
       "      <td>150.0</td>\n",
       "      <td>mastercard</td>\n",
       "      <td>224.0</td>\n",
       "      <td>...</td>\n",
       "      <td>NaN</td>\n",
       "      <td>NaN</td>\n",
       "      <td>NaN</td>\n",
       "      <td>NaN</td>\n",
       "      <td>NaN</td>\n",
       "      <td>NaN</td>\n",
       "      <td>NaN</td>\n",
       "      <td>NaN</td>\n",
       "      <td>NaN</td>\n",
       "      <td>NaN</td>\n",
       "    </tr>\n",
       "  </tbody>\n",
       "</table>\n",
       "<p>2 rows × 394 columns</p>\n",
       "</div>"
      ],
      "text/plain": [
       "   TransactionID  isFraud  TransactionDT  TransactionAmt ProductCD  card1  \\\n",
       "0        3062000        0        1643492            41.0         W   9500   \n",
       "1        3062001        1        1643513           161.0         W   6668   \n",
       "\n",
       "   card2  card3       card4  card5  ... V330  V331  V332  V333  V334 V335  \\\n",
       "0  321.0  150.0        visa  226.0  ...  NaN   NaN   NaN   NaN   NaN  NaN   \n",
       "1  390.0  150.0  mastercard  224.0  ...  NaN   NaN   NaN   NaN   NaN  NaN   \n",
       "\n",
       "  V336  V337  V338  V339  \n",
       "0  NaN   NaN   NaN   NaN  \n",
       "1  NaN   NaN   NaN   NaN  \n",
       "\n",
       "[2 rows x 394 columns]"
      ]
     },
     "execution_count": 215,
     "metadata": {},
     "output_type": "execute_result"
    }
   ],
   "source": [
    "test = pd.read_csv(\"assignment_test.csv\")\n",
    "test.head(n=2)"
   ]
  },
  {
   "cell_type": "code",
   "execution_count": 216,
   "metadata": {},
   "outputs": [
    {
     "data": {
      "text/html": [
       "<div>\n",
       "<style scoped>\n",
       "    .dataframe tbody tr th:only-of-type {\n",
       "        vertical-align: middle;\n",
       "    }\n",
       "\n",
       "    .dataframe tbody tr th {\n",
       "        vertical-align: top;\n",
       "    }\n",
       "\n",
       "    .dataframe thead th {\n",
       "        text-align: right;\n",
       "    }\n",
       "</style>\n",
       "<table border=\"1\" class=\"dataframe\">\n",
       "  <thead>\n",
       "    <tr style=\"text-align: right;\">\n",
       "      <th></th>\n",
       "      <th>TransactionID</th>\n",
       "      <th>isFraud</th>\n",
       "      <th>TransactionDT</th>\n",
       "      <th>TransactionAmt</th>\n",
       "      <th>ProductCD</th>\n",
       "      <th>card1</th>\n",
       "      <th>card2</th>\n",
       "      <th>card3</th>\n",
       "      <th>card4</th>\n",
       "      <th>card5</th>\n",
       "      <th>...</th>\n",
       "      <th>V330</th>\n",
       "      <th>V331</th>\n",
       "      <th>V332</th>\n",
       "      <th>V333</th>\n",
       "      <th>V334</th>\n",
       "      <th>V335</th>\n",
       "      <th>V336</th>\n",
       "      <th>V337</th>\n",
       "      <th>V338</th>\n",
       "      <th>V339</th>\n",
       "    </tr>\n",
       "  </thead>\n",
       "  <tbody>\n",
       "    <tr>\n",
       "      <th>0</th>\n",
       "      <td>2987000</td>\n",
       "      <td>0</td>\n",
       "      <td>86400</td>\n",
       "      <td>68.5</td>\n",
       "      <td>W</td>\n",
       "      <td>13926</td>\n",
       "      <td>NaN</td>\n",
       "      <td>150.0</td>\n",
       "      <td>discover</td>\n",
       "      <td>142.0</td>\n",
       "      <td>...</td>\n",
       "      <td>NaN</td>\n",
       "      <td>NaN</td>\n",
       "      <td>NaN</td>\n",
       "      <td>NaN</td>\n",
       "      <td>NaN</td>\n",
       "      <td>NaN</td>\n",
       "      <td>NaN</td>\n",
       "      <td>NaN</td>\n",
       "      <td>NaN</td>\n",
       "      <td>NaN</td>\n",
       "    </tr>\n",
       "    <tr>\n",
       "      <th>1</th>\n",
       "      <td>2987001</td>\n",
       "      <td>0</td>\n",
       "      <td>86401</td>\n",
       "      <td>29.0</td>\n",
       "      <td>W</td>\n",
       "      <td>2755</td>\n",
       "      <td>404.0</td>\n",
       "      <td>150.0</td>\n",
       "      <td>mastercard</td>\n",
       "      <td>102.0</td>\n",
       "      <td>...</td>\n",
       "      <td>NaN</td>\n",
       "      <td>NaN</td>\n",
       "      <td>NaN</td>\n",
       "      <td>NaN</td>\n",
       "      <td>NaN</td>\n",
       "      <td>NaN</td>\n",
       "      <td>NaN</td>\n",
       "      <td>NaN</td>\n",
       "      <td>NaN</td>\n",
       "      <td>NaN</td>\n",
       "    </tr>\n",
       "  </tbody>\n",
       "</table>\n",
       "<p>2 rows × 394 columns</p>\n",
       "</div>"
      ],
      "text/plain": [
       "   TransactionID  isFraud  TransactionDT  TransactionAmt ProductCD  card1  \\\n",
       "0        2987000        0          86400            68.5         W  13926   \n",
       "1        2987001        0          86401            29.0         W   2755   \n",
       "\n",
       "   card2  card3       card4  card5  ... V330  V331  V332  V333  V334 V335  \\\n",
       "0    NaN  150.0    discover  142.0  ...  NaN   NaN   NaN   NaN   NaN  NaN   \n",
       "1  404.0  150.0  mastercard  102.0  ...  NaN   NaN   NaN   NaN   NaN  NaN   \n",
       "\n",
       "  V336  V337  V338  V339  \n",
       "0  NaN   NaN   NaN   NaN  \n",
       "1  NaN   NaN   NaN   NaN  \n",
       "\n",
       "[2 rows x 394 columns]"
      ]
     },
     "execution_count": 216,
     "metadata": {},
     "output_type": "execute_result"
    }
   ],
   "source": [
    "train = pd.read_csv(\"assignment_train.csv\")\n",
    "train.head(n=2)"
   ]
  },
  {
   "cell_type": "code",
   "execution_count": 217,
   "metadata": {},
   "outputs": [
    {
     "name": "stdout",
     "output_type": "stream",
     "text": [
      "train.shape = 50001 rows, 394 cols\n",
      "test.shape = 75000 rows, 394 cols\n"
     ]
    }
   ],
   "source": [
    "print(\"train.shape = {} rows, {} cols\".format(*train.shape))\n",
    "print(\"test.shape = {} rows, {} cols\".format(*test.shape))"
   ]
  },
  {
   "cell_type": "code",
   "execution_count": 218,
   "metadata": {},
   "outputs": [
    {
     "data": {
      "text/html": [
       "<div>\n",
       "<style scoped>\n",
       "    .dataframe tbody tr th:only-of-type {\n",
       "        vertical-align: middle;\n",
       "    }\n",
       "\n",
       "    .dataframe tbody tr th {\n",
       "        vertical-align: top;\n",
       "    }\n",
       "\n",
       "    .dataframe thead th {\n",
       "        text-align: right;\n",
       "    }\n",
       "</style>\n",
       "<table border=\"1\" class=\"dataframe\">\n",
       "  <thead>\n",
       "    <tr style=\"text-align: right;\">\n",
       "      <th></th>\n",
       "      <th>TransactionID</th>\n",
       "      <th>isFraud</th>\n",
       "      <th>TransactionDT</th>\n",
       "      <th>TransactionAmt</th>\n",
       "      <th>card1</th>\n",
       "      <th>card2</th>\n",
       "      <th>card3</th>\n",
       "      <th>card5</th>\n",
       "      <th>addr1</th>\n",
       "      <th>addr2</th>\n",
       "      <th>...</th>\n",
       "      <th>V330</th>\n",
       "      <th>V331</th>\n",
       "      <th>V332</th>\n",
       "      <th>V333</th>\n",
       "      <th>V334</th>\n",
       "      <th>V335</th>\n",
       "      <th>V336</th>\n",
       "      <th>V337</th>\n",
       "      <th>V338</th>\n",
       "      <th>V339</th>\n",
       "    </tr>\n",
       "  </thead>\n",
       "  <tbody>\n",
       "    <tr>\n",
       "      <th>count</th>\n",
       "      <td>5.000100e+04</td>\n",
       "      <td>50001.000000</td>\n",
       "      <td>5.000100e+04</td>\n",
       "      <td>50001.000000</td>\n",
       "      <td>50001.000000</td>\n",
       "      <td>49304.000000</td>\n",
       "      <td>49998.000000</td>\n",
       "      <td>49766.000000</td>\n",
       "      <td>47410.000000</td>\n",
       "      <td>47410.000000</td>\n",
       "      <td>...</td>\n",
       "      <td>12268.000000</td>\n",
       "      <td>12268.000000</td>\n",
       "      <td>12268.000000</td>\n",
       "      <td>12268.000000</td>\n",
       "      <td>12268.000000</td>\n",
       "      <td>12268.000000</td>\n",
       "      <td>12268.000000</td>\n",
       "      <td>12268.000000</td>\n",
       "      <td>12268.000000</td>\n",
       "      <td>12268.000000</td>\n",
       "    </tr>\n",
       "    <tr>\n",
       "      <th>mean</th>\n",
       "      <td>3.012000e+06</td>\n",
       "      <td>0.027139</td>\n",
       "      <td>6.378101e+05</td>\n",
       "      <td>128.129726</td>\n",
       "      <td>9912.598368</td>\n",
       "      <td>366.635547</td>\n",
       "      <td>152.803612</td>\n",
       "      <td>200.704276</td>\n",
       "      <td>291.813162</td>\n",
       "      <td>85.590593</td>\n",
       "      <td>...</td>\n",
       "      <td>0.110450</td>\n",
       "      <td>38.942391</td>\n",
       "      <td>63.051814</td>\n",
       "      <td>45.816241</td>\n",
       "      <td>4.252527</td>\n",
       "      <td>14.926426</td>\n",
       "      <td>7.991718</td>\n",
       "      <td>15.742603</td>\n",
       "      <td>21.362671</td>\n",
       "      <td>16.464481</td>\n",
       "    </tr>\n",
       "    <tr>\n",
       "      <th>std</th>\n",
       "      <td>1.443419e+04</td>\n",
       "      <td>0.162491</td>\n",
       "      <td>3.229461e+05</td>\n",
       "      <td>213.078011</td>\n",
       "      <td>4904.597980</td>\n",
       "      <td>159.057800</td>\n",
       "      <td>10.482210</td>\n",
       "      <td>40.299048</td>\n",
       "      <td>104.991697</td>\n",
       "      <td>6.687334</td>\n",
       "      <td>...</td>\n",
       "      <td>0.469788</td>\n",
       "      <td>190.465893</td>\n",
       "      <td>446.405097</td>\n",
       "      <td>210.319262</td>\n",
       "      <td>46.694625</td>\n",
       "      <td>105.561868</td>\n",
       "      <td>60.584452</td>\n",
       "      <td>91.083819</td>\n",
       "      <td>131.071046</td>\n",
       "      <td>92.726771</td>\n",
       "    </tr>\n",
       "    <tr>\n",
       "      <th>min</th>\n",
       "      <td>2.987000e+06</td>\n",
       "      <td>0.000000</td>\n",
       "      <td>8.640000e+04</td>\n",
       "      <td>0.292000</td>\n",
       "      <td>1001.000000</td>\n",
       "      <td>100.000000</td>\n",
       "      <td>100.000000</td>\n",
       "      <td>100.000000</td>\n",
       "      <td>100.000000</td>\n",
       "      <td>13.000000</td>\n",
       "      <td>...</td>\n",
       "      <td>0.000000</td>\n",
       "      <td>0.000000</td>\n",
       "      <td>0.000000</td>\n",
       "      <td>0.000000</td>\n",
       "      <td>0.000000</td>\n",
       "      <td>0.000000</td>\n",
       "      <td>0.000000</td>\n",
       "      <td>0.000000</td>\n",
       "      <td>0.000000</td>\n",
       "      <td>0.000000</td>\n",
       "    </tr>\n",
       "    <tr>\n",
       "      <th>25%</th>\n",
       "      <td>2.999500e+06</td>\n",
       "      <td>0.000000</td>\n",
       "      <td>3.523050e+05</td>\n",
       "      <td>42.000000</td>\n",
       "      <td>6019.000000</td>\n",
       "      <td>208.000000</td>\n",
       "      <td>150.000000</td>\n",
       "      <td>166.000000</td>\n",
       "      <td>204.000000</td>\n",
       "      <td>87.000000</td>\n",
       "      <td>...</td>\n",
       "      <td>0.000000</td>\n",
       "      <td>0.000000</td>\n",
       "      <td>0.000000</td>\n",
       "      <td>0.000000</td>\n",
       "      <td>0.000000</td>\n",
       "      <td>0.000000</td>\n",
       "      <td>0.000000</td>\n",
       "      <td>0.000000</td>\n",
       "      <td>0.000000</td>\n",
       "      <td>0.000000</td>\n",
       "    </tr>\n",
       "    <tr>\n",
       "      <th>50%</th>\n",
       "      <td>3.012000e+06</td>\n",
       "      <td>0.000000</td>\n",
       "      <td>6.537500e+05</td>\n",
       "      <td>68.500000</td>\n",
       "      <td>9705.000000</td>\n",
       "      <td>369.000000</td>\n",
       "      <td>150.000000</td>\n",
       "      <td>226.000000</td>\n",
       "      <td>299.000000</td>\n",
       "      <td>87.000000</td>\n",
       "      <td>...</td>\n",
       "      <td>0.000000</td>\n",
       "      <td>0.000000</td>\n",
       "      <td>0.000000</td>\n",
       "      <td>0.000000</td>\n",
       "      <td>0.000000</td>\n",
       "      <td>0.000000</td>\n",
       "      <td>0.000000</td>\n",
       "      <td>0.000000</td>\n",
       "      <td>0.000000</td>\n",
       "      <td>0.000000</td>\n",
       "    </tr>\n",
       "    <tr>\n",
       "      <th>75%</th>\n",
       "      <td>3.024500e+06</td>\n",
       "      <td>0.000000</td>\n",
       "      <td>9.321340e+05</td>\n",
       "      <td>120.000000</td>\n",
       "      <td>14265.000000</td>\n",
       "      <td>514.000000</td>\n",
       "      <td>150.000000</td>\n",
       "      <td>226.000000</td>\n",
       "      <td>330.000000</td>\n",
       "      <td>87.000000</td>\n",
       "      <td>...</td>\n",
       "      <td>0.000000</td>\n",
       "      <td>0.000000</td>\n",
       "      <td>0.000000</td>\n",
       "      <td>0.000000</td>\n",
       "      <td>0.000000</td>\n",
       "      <td>0.000000</td>\n",
       "      <td>0.000000</td>\n",
       "      <td>0.000000</td>\n",
       "      <td>0.000000</td>\n",
       "      <td>0.000000</td>\n",
       "    </tr>\n",
       "    <tr>\n",
       "      <th>max</th>\n",
       "      <td>3.037000e+06</td>\n",
       "      <td>1.000000</td>\n",
       "      <td>1.189349e+06</td>\n",
       "      <td>4829.950000</td>\n",
       "      <td>18393.000000</td>\n",
       "      <td>600.000000</td>\n",
       "      <td>229.000000</td>\n",
       "      <td>237.000000</td>\n",
       "      <td>540.000000</td>\n",
       "      <td>102.000000</td>\n",
       "      <td>...</td>\n",
       "      <td>7.000000</td>\n",
       "      <td>6300.000000</td>\n",
       "      <td>32250.000000</td>\n",
       "      <td>6300.000000</td>\n",
       "      <td>1000.000000</td>\n",
       "      <td>2700.000000</td>\n",
       "      <td>1300.000000</td>\n",
       "      <td>1700.000000</td>\n",
       "      <td>3000.000000</td>\n",
       "      <td>1700.000000</td>\n",
       "    </tr>\n",
       "  </tbody>\n",
       "</table>\n",
       "<p>8 rows × 380 columns</p>\n",
       "</div>"
      ],
      "text/plain": [
       "       TransactionID       isFraud  TransactionDT  TransactionAmt  \\\n",
       "count   5.000100e+04  50001.000000   5.000100e+04    50001.000000   \n",
       "mean    3.012000e+06      0.027139   6.378101e+05      128.129726   \n",
       "std     1.443419e+04      0.162491   3.229461e+05      213.078011   \n",
       "min     2.987000e+06      0.000000   8.640000e+04        0.292000   \n",
       "25%     2.999500e+06      0.000000   3.523050e+05       42.000000   \n",
       "50%     3.012000e+06      0.000000   6.537500e+05       68.500000   \n",
       "75%     3.024500e+06      0.000000   9.321340e+05      120.000000   \n",
       "max     3.037000e+06      1.000000   1.189349e+06     4829.950000   \n",
       "\n",
       "              card1         card2         card3         card5         addr1  \\\n",
       "count  50001.000000  49304.000000  49998.000000  49766.000000  47410.000000   \n",
       "mean    9912.598368    366.635547    152.803612    200.704276    291.813162   \n",
       "std     4904.597980    159.057800     10.482210     40.299048    104.991697   \n",
       "min     1001.000000    100.000000    100.000000    100.000000    100.000000   \n",
       "25%     6019.000000    208.000000    150.000000    166.000000    204.000000   \n",
       "50%     9705.000000    369.000000    150.000000    226.000000    299.000000   \n",
       "75%    14265.000000    514.000000    150.000000    226.000000    330.000000   \n",
       "max    18393.000000    600.000000    229.000000    237.000000    540.000000   \n",
       "\n",
       "              addr2  ...          V330          V331          V332  \\\n",
       "count  47410.000000  ...  12268.000000  12268.000000  12268.000000   \n",
       "mean      85.590593  ...      0.110450     38.942391     63.051814   \n",
       "std        6.687334  ...      0.469788    190.465893    446.405097   \n",
       "min       13.000000  ...      0.000000      0.000000      0.000000   \n",
       "25%       87.000000  ...      0.000000      0.000000      0.000000   \n",
       "50%       87.000000  ...      0.000000      0.000000      0.000000   \n",
       "75%       87.000000  ...      0.000000      0.000000      0.000000   \n",
       "max      102.000000  ...      7.000000   6300.000000  32250.000000   \n",
       "\n",
       "               V333          V334          V335          V336          V337  \\\n",
       "count  12268.000000  12268.000000  12268.000000  12268.000000  12268.000000   \n",
       "mean      45.816241      4.252527     14.926426      7.991718     15.742603   \n",
       "std      210.319262     46.694625    105.561868     60.584452     91.083819   \n",
       "min        0.000000      0.000000      0.000000      0.000000      0.000000   \n",
       "25%        0.000000      0.000000      0.000000      0.000000      0.000000   \n",
       "50%        0.000000      0.000000      0.000000      0.000000      0.000000   \n",
       "75%        0.000000      0.000000      0.000000      0.000000      0.000000   \n",
       "max     6300.000000   1000.000000   2700.000000   1300.000000   1700.000000   \n",
       "\n",
       "               V338          V339  \n",
       "count  12268.000000  12268.000000  \n",
       "mean      21.362671     16.464481  \n",
       "std      131.071046     92.726771  \n",
       "min        0.000000      0.000000  \n",
       "25%        0.000000      0.000000  \n",
       "50%        0.000000      0.000000  \n",
       "75%        0.000000      0.000000  \n",
       "max     3000.000000   1700.000000  \n",
       "\n",
       "[8 rows x 380 columns]"
      ]
     },
     "execution_count": 218,
     "metadata": {},
     "output_type": "execute_result"
    }
   ],
   "source": [
    "train.describe()"
   ]
  },
  {
   "cell_type": "code",
   "execution_count": 219,
   "metadata": {},
   "outputs": [],
   "source": [
    "target = \"isFraud\""
   ]
  },
  {
   "cell_type": "markdown",
   "metadata": {},
   "source": [
    "### Задание на повторение: Задание не обязательно к выполнению, но очень рекомендуется для понимания набора данных и получения гипотез для проведения валидации."
   ]
  },
  {
   "cell_type": "markdown",
   "metadata": {},
   "source": [
    "#### Задание 1: \n",
    "Построить график распределения времени совершения транзакции для обучающей / тестовой выборки, сделать выводы о том, как разбиты данные и какие виды валидации могут подойти для данной задачи."
   ]
  },
  {
   "cell_type": "code",
   "execution_count": 220,
   "metadata": {},
   "outputs": [
    {
     "data": {
      "image/png": "[encoded data removed]",
      "text/plain": [
       "<Figure size 1080x360 with 1 Axes>"
      ]
     },
     "metadata": {
      "needs_background": "light"
     },
     "output_type": "display_data"
    }
   ],
   "source": [
    "plt.figure(figsize=(15,5))\n",
    "plt.hist(train['TransactionDT'], color='red', bins=200)\n",
    "plt.hist(test['TransactionDT'], color='green', bins=200)\n",
    "plt.show()"
   ]
  },
  {
   "cell_type": "markdown",
   "metadata": {},
   "source": [
    "Трейн и тест разбиты по времени, причём отделены друг от друга с некоторым разрывом. Трейн имеет более ранние даты чем тест. На обеих выборках наблюдается сезонность."
   ]
  },
  {
   "cell_type": "markdown",
   "metadata": {},
   "source": [
    "#### Задание 2: \n",
    "Построить scatter-plot зависимости суммы транзакции от времени совершения транзакции. Построить графики для обучающей выборки и для тестовой выборки, для обучающей выборки - построить как для целевой переменной = 0, так и для переменной = 1. Сделать выводы."
   ]
  },
  {
   "cell_type": "code",
   "execution_count": 221,
   "metadata": {},
   "outputs": [
    {
     "data": {
      "image/png": "[encoded data removed]",
      "text/plain": [
       "<Figure size 432x288 with 1 Axes>"
      ]
     },
     "metadata": {
      "needs_background": "light"
     },
     "output_type": "display_data"
    }
   ],
   "source": [
    "plt.scatter(train[train[target]==0]['TransactionDT'], train[train[target]==0]['TransactionAmt'], color='blue', alpha=0.5)\n",
    "plt.scatter(train[train[target]==1]['TransactionDT'], train[train[target]==1]['TransactionAmt'], color='red', alpha=0.5)\n",
    "plt.show()"
   ]
  },
  {
   "cell_type": "code",
   "execution_count": 222,
   "metadata": {},
   "outputs": [
    {
     "data": {
      "image/png": "[encoded data removed]",
      "text/plain": [
       "<Figure size 432x288 with 1 Axes>"
      ]
     },
     "metadata": {
      "needs_background": "light"
     },
     "output_type": "display_data"
    }
   ],
   "source": [
    "plt.scatter(test['TransactionDT'], test['TransactionAmt'])\n",
    "plt.show()"
   ]
  },
  {
   "cell_type": "markdown",
   "metadata": {},
   "source": [
    "Наборы данных тест и трейн довольно похожи друг на друга. На трейн выборке мошеннические операции сгруппированы и видимо совпадают со временем проведения обычных операций. Мошеннические операции проводятся небольшими суммами."
   ]
  },
  {
   "cell_type": "markdown",
   "metadata": {},
   "source": [
    "#### Задание 3: \n",
    "Построить распределение признака TransactionAmt в логарифмическом масштабе, сделать выводы о близости распредления к нормальному распределению. Построить распределение признака в логарифмическому масштабе для обучающей выборк и для тестовой выборки, сделать выводы."
   ]
  },
  {
   "cell_type": "code",
   "execution_count": 223,
   "metadata": {},
   "outputs": [
    {
     "data": {
      "image/png": "[encoded data removed]",
      "text/plain": [
       "<Figure size 936x360 with 2 Axes>"
      ]
     },
     "metadata": {
      "needs_background": "light"
     },
     "output_type": "display_data"
    }
   ],
   "source": [
    "data = np.log(train['TransactionAmt'])\n",
    "fig = plt.figure(figsize=(13, 5))\n",
    "plt.subplot(121)\n",
    "sns.distplot(data, bins=50, color=\"blue\")\n",
    "plt.subplot(122)\n",
    "probplot(data, plot=plt)\n",
    "plt.show()"
   ]
  },
  {
   "cell_type": "code",
   "execution_count": 224,
   "metadata": {},
   "outputs": [
    {
     "data": {
      "image/png": "[encoded data removed]",
      "text/plain": [
       "<Figure size 936x360 with 2 Axes>"
      ]
     },
     "metadata": {
      "needs_background": "light"
     },
     "output_type": "display_data"
    }
   ],
   "source": [
    "data = np.log(test['TransactionAmt'])\n",
    "fig = plt.figure(figsize=(13, 5))\n",
    "plt.subplot(121)\n",
    "sns.distplot(data, bins=50, color=\"blue\")\n",
    "plt.subplot(122)\n",
    "probplot(data, plot=plt)\n",
    "plt.show()"
   ]
  },
  {
   "cell_type": "markdown",
   "metadata": {},
   "source": [
    "Распределения на трейн и тест похожи, но не являются нормальными."
   ]
  },
  {
   "cell_type": "markdown",
   "metadata": {},
   "source": [
    "#### Задание 4: \n",
    "Построить распределение признака целевой переменной в зависимости от значений категориальных признаков ProductCD, card4, card6. Сделать выводы."
   ]
  },
  {
   "cell_type": "code",
   "execution_count": 225,
   "metadata": {},
   "outputs": [
    {
     "data": {
      "image/png": "[encoded data removed]",
      "text/plain": [
       "<Figure size 1080x1080 with 6 Axes>"
      ]
     },
     "metadata": {
      "needs_background": "light"
     },
     "output_type": "display_data"
    }
   ],
   "source": [
    "fig, ax = plt.subplots(3, 2, figsize=(15, 15))\n",
    "for i, feature in enumerate(['ProductCD', 'card4', 'card6']):\n",
    "    order = set(train[feature])\n",
    "    sns.countplot(data=train[train[target]==0], x=feature, hue=target, ax=ax[i, 0], order=order)\n",
    "    sns.countplot(data=train[train[target]==1], x=feature, hue=target, ax=ax[i, 1], order=order)\n",
    "fig.show()"
   ]
  },
  {
   "cell_type": "markdown",
   "metadata": {},
   "source": [
    "Распределения для обычных и мошеннических операций для ProductCD отличаются. В частности класс C имеет значительно больше мошеннических операций. Для card4 распределения похожи. Для card6 распределения отличаются: для кредитных карт мошеннических операций больше чем по дебетовым."
   ]
  },
  {
   "cell_type": "markdown",
   "metadata": {},
   "source": [
    "#### Задание 1: \n",
    "сделать Hold-Out валидацию с разбиением, размер которого будет адеквтаным, по вашему мнению; разбиение проводить по id-транзакции (TransactionID), обучать модель градиетного бустинга любой реализации с подбором числа деревьев по early_stopping критерию до достижения сходимости. Оценить качество модели на тестовой выборке, оценить расхождение по сравнению с качеством на обучающей выборке и тестовой выборке."
   ]
  },
  {
   "cell_type": "code",
   "execution_count": 226,
   "metadata": {},
   "outputs": [],
   "source": [
    "cat_features = train.select_dtypes(\"object\").columns.tolist()\n",
    "drop_features = [target, 'TransactionID', 'TransactionDT']"
   ]
  },
  {
   "cell_type": "code",
   "execution_count": 227,
   "metadata": {},
   "outputs": [],
   "source": [
    "train[cat_features] = train[cat_features].astype(str)\n",
    "test[cat_features] = test[cat_features].astype(str)"
   ]
  },
  {
   "cell_type": "code",
   "execution_count": 228,
   "metadata": {},
   "outputs": [
    {
     "name": "stdout",
     "output_type": "stream",
     "text": [
      "x_train.shape = 35000 rows, 391 cols\n",
      "x_valid.shape = 15001 rows, 391 cols\n",
      "x_public.shape = 75000 rows, 391 cols\n"
     ]
    }
   ],
   "source": [
    "x_train, x_valid = train_test_split(train.drop(drop_features, axis=1), train_size=0.7, shuffle=True, random_state=rs)\n",
    "y_train, y_valid = train_test_split(train[target], train_size=0.7, shuffle=True, random_state=rs)\n",
    "x_public = test.drop(drop_features, axis=1)\n",
    "y_public = test[target]\n",
    "\n",
    "print(\"x_train.shape = {} rows, {} cols\".format(*x_train.shape))\n",
    "print(\"x_valid.shape = {} rows, {} cols\".format(*x_valid.shape))\n",
    "print(\"x_public.shape = {} rows, {} cols\".format(*x_public.shape))"
   ]
  },
  {
   "cell_type": "code",
   "execution_count": 229,
   "metadata": {},
   "outputs": [
    {
     "name": "stderr",
     "output_type": "stream",
     "text": [
      "100%|██████████| 8/8 [00:27<00:00,  3.49s/it]\n"
     ]
    },
    {
     "data": {
      "image/png": "[encoded data removed]",
      "text/plain": [
       "<Figure size 432x288 with 1 Axes>"
      ]
     },
     "metadata": {
      "needs_background": "light"
     },
     "output_type": "display_data"
    },
    {
     "name": "stdout",
     "output_type": "stream",
     "text": [
      "[0.8555000159656743, 0.8640825215668713, 0.8695549918254624, 0.873185007815872, 0.8730059491250417, 0.8742277096981689, 0.8744240692208672, 0.8744240692208672]\n",
      "CPU times: user 5min 46s, sys: 15.7 s, total: 6min 2s\n",
      "Wall time: 28 s\n"
     ]
    }
   ],
   "source": [
    "%%time\n",
    "train_score = []\n",
    "valid_score = []\n",
    "public_score = []\n",
    "eval_set = [(x_valid, y_valid)]\n",
    "n_estimators = [50, 100, 150, 200, 250, 300, 350, 400]\n",
    "\n",
    "for e in tqdm(n_estimators):\n",
    "    model = catb.CatBoostClassifier(cat_features=cat_features, eval_metric='AUC', n_estimators=e,\n",
    "                                    max_depth=4, early_stopping_rounds=10, learning_rate=0.1,\n",
    "                                    silent=True, random_state=rs)\n",
    "    model.fit(x_train, y_train, eval_set=eval_set)\n",
    "    train_score.append(roc_auc_score(y_train, model.predict_proba(x_train)[:, 1]))\n",
    "    valid_score.append(roc_auc_score(y_valid, model.predict_proba(x_valid)[:, 1]))\n",
    "    public_score.append(roc_auc_score(y_public, model.predict_proba(x_public)[:, 1]))\n",
    "    \n",
    "plt.plot(n_estimators, train_score, label='train', color='blue')\n",
    "plt.plot(n_estimators, valid_score, label='valid', color='green')\n",
    "plt.plot(n_estimators, public_score, label='public', color='red')\n",
    "plt.xlabel('n_estimators')\n",
    "plt.ylabel('roc_auc')\n",
    "plt.legend()\n",
    "plt.show()\n",
    "\n",
    "print(public_score)"
   ]
  },
  {
   "cell_type": "markdown",
   "metadata": {},
   "source": [
    "Видно, что разница в метрике roc_auc между train, valid и test очень большая."
   ]
  },
  {
   "cell_type": "markdown",
   "metadata": {},
   "source": [
    "#### Задание 2: \n",
    "Сделать Hold-Out валидацию с разбиением на 3 выборки, разбиение проводить по id-транзакции (TransactionID), размер каждой выборки подобрать самостоятельно. Повторить процедуру из п.1."
   ]
  },
  {
   "cell_type": "code",
   "execution_count": 230,
   "metadata": {},
   "outputs": [
    {
     "name": "stdout",
     "output_type": "stream",
     "text": [
      "x_train.shape = 35000 rows, 391 cols\n",
      "x_valid.shape = 7500 rows, 391 cols\n",
      "x_test.shape = 7501 rows, 391 cols\n",
      "x_public.shape = 75000 rows, 391 cols\n"
     ]
    }
   ],
   "source": [
    "x_train, x_valid = train_test_split(train.drop(drop_features, axis=1), train_size=0.7, shuffle=True, random_state=rs)\n",
    "y_train, y_valid = train_test_split(train[target], train_size=0.7, shuffle=True, random_state=rs)\n",
    "x_valid, x_test = train_test_split(x_valid, train_size=0.5, random_state=rs, shuffle=True)\n",
    "y_valid, y_test = train_test_split(y_valid, train_size=0.5, random_state=rs, shuffle=True)\n",
    "x_public = test.drop(drop_features, axis=1)\n",
    "y_public = test[target]\n",
    "\n",
    "print(\"x_train.shape = {} rows, {} cols\".format(*x_train.shape))\n",
    "print(\"x_valid.shape = {} rows, {} cols\".format(*x_valid.shape))\n",
    "print(\"x_test.shape = {} rows, {} cols\".format(*x_test.shape))\n",
    "print(\"x_public.shape = {} rows, {} cols\".format(*x_public.shape))"
   ]
  },
  {
   "cell_type": "code",
   "execution_count": 231,
   "metadata": {},
   "outputs": [
    {
     "name": "stderr",
     "output_type": "stream",
     "text": [
      "100%|██████████| 8/8 [00:25<00:00,  3.21s/it]\n"
     ]
    },
    {
     "data": {
      "image/png": "[encoded data removed]",
      "text/plain": [
       "<Figure size 432x288 with 1 Axes>"
      ]
     },
     "metadata": {
      "needs_background": "light"
     },
     "output_type": "display_data"
    },
    {
     "name": "stdout",
     "output_type": "stream",
     "text": [
      "[0.8555115791333585, 0.8640825215668713, 0.8695549918254624, 0.873185007815872, 0.8729515098299645, 0.8738020192867593, 0.8738020192867593, 0.8738020192867593]\n",
      "CPU times: user 5min 15s, sys: 13.6 s, total: 5min 28s\n",
      "Wall time: 25.8 s\n"
     ]
    }
   ],
   "source": [
    "%%time\n",
    "train_score = []\n",
    "valid_score = []\n",
    "test_score = []\n",
    "public_score = []\n",
    "eval_set = [(x_valid, y_valid)]\n",
    "n_estimators = [50, 100, 150, 200, 250, 300, 350, 400]\n",
    "\n",
    "for e in tqdm(n_estimators):\n",
    "    model = catb.CatBoostClassifier(cat_features=cat_features, eval_metric='AUC', n_estimators=e,\n",
    "                                    max_depth=4, early_stopping_rounds=10, learning_rate=0.1,\n",
    "                                    silent=True, random_state=rs)\n",
    "    model.fit(x_train, y_train, eval_set=eval_set)\n",
    "    train_score.append(roc_auc_score(y_train, model.predict_proba(x_train)[:, 1]))\n",
    "    valid_score.append(roc_auc_score(y_valid, model.predict_proba(x_valid)[:, 1]))\n",
    "    test_score.append(roc_auc_score(y_test, model.predict_proba(x_test)[:, 1]))\n",
    "    public_score.append(roc_auc_score(y_public, model.predict_proba(x_public)[:, 1]))\n",
    "    \n",
    "plt.plot(n_estimators, train_score, label='train', color='blue')\n",
    "plt.plot(n_estimators, valid_score, label='valid', color='green')\n",
    "plt.plot(n_estimators, test_score, label='test', color='orange')\n",
    "plt.plot(n_estimators, public_score, label='public', color='red')\n",
    "plt.xlabel('n_estimators')\n",
    "plt.ylabel('roc_auc')\n",
    "plt.legend()\n",
    "plt.show()\n",
    "\n",
    "print(public_score)"
   ]
  },
  {
   "cell_type": "markdown",
   "metadata": {},
   "source": [
    "Ситуация с расхождением метрик на разных выборках немного улучшилась, графики стали чуть ближе друг к другу. Но само значение метрики практически не изменилось."
   ]
  },
  {
   "cell_type": "markdown",
   "metadata": {},
   "source": [
    "#### Задание 3: \n",
    "Построить доверительный интервал на данных из п.2 на основе бутстреп выборок, оценить качество модели на тестовом выборке относительно полученного доверительного интервала. Сделать выводы."
   ]
  },
  {
   "cell_type": "markdown",
   "metadata": {},
   "source": [
    "На основе п.2. возьмём число деревьев, соответствующее максимальному значению метрики, при котором переобучение ещё не сильно наблюдается, т.е. 200"
   ]
  },
  {
   "cell_type": "code",
   "execution_count": 239,
   "metadata": {},
   "outputs": [
    {
     "data": {
      "text/plain": [
       "<catboost.core.CatBoostClassifier at 0x7f76fb1c8940>"
      ]
     },
     "execution_count": 239,
     "metadata": {},
     "output_type": "execute_result"
    }
   ],
   "source": [
    "model = catb.CatBoostClassifier(cat_features=cat_features, eval_metric='AUC', n_estimators=200, \n",
    "                                max_depth=4, early_stopping_rounds=10, learning_rate=0.1,\n",
    "                                silent=True, random_state=rs)\n",
    "model.fit(x_train, y_train, eval_set=eval_set)"
   ]
  },
  {
   "cell_type": "code",
   "execution_count": 240,
   "metadata": {
    "scrolled": true
   },
   "outputs": [
    {
     "name": "stdout",
     "output_type": "stream",
     "text": [
      "0.873185007815872\n"
     ]
    }
   ],
   "source": [
    "print(roc_auc_score(y_public, model.predict_proba(x_public)[:, 1]))"
   ]
  },
  {
   "cell_type": "code",
   "execution_count": 241,
   "metadata": {},
   "outputs": [],
   "source": [
    "def create_bootstrap_samples(data: np.array, n_samples: int = 1000) -> np.array:\n",
    "    \"\"\"\n",
    "    Создание бутстреп-выборок.\n",
    "\n",
    "    Parameters\n",
    "    ----------\n",
    "    data: np.array\n",
    "        Исходная выборка, которая будет использоваться для\n",
    "        создания бутстреп выборок.\n",
    "\n",
    "    n_samples: int, optional, default = 1000\n",
    "        Количество создаваемых бутстреп выборок.\n",
    "        Опциональный параметр, по умолчанию, равен 1000.\n",
    "\n",
    "    Returns\n",
    "    -------\n",
    "    bootstrap_idx: np.array\n",
    "        Матрица индексов, для создания бутстреп выборок.\n",
    "\n",
    "    \"\"\"\n",
    "    bootstrap_idx = np.random.randint(\n",
    "        low=0, high=len(data), size=(n_samples, len(data))\n",
    "    )\n",
    "    return bootstrap_idx\n",
    "\n",
    "\n",
    "def create_bootstrap_metrics(y_true: np.array,\n",
    "                             y_pred: np.array,\n",
    "                             metric: callable,\n",
    "                             n_samlpes: int = 1000) -> List[float]:\n",
    "    \"\"\"\n",
    "    Вычисление бутстреп оценок.\n",
    "\n",
    "    Parameters\n",
    "    ----------\n",
    "    y_true: np.array\n",
    "        Вектор целевой переменной.\n",
    "\n",
    "    y_pred: np.array\n",
    "        Вектор прогнозов.\n",
    "\n",
    "    metric: callable\n",
    "        Функция для вычисления метрики.\n",
    "        Функция должна принимать 2 аргумента: y_true, y_pred.\n",
    "\n",
    "    n_samples: int, optional, default = 1000\n",
    "        Количество создаваемых бутстреп выборок.\n",
    "        Опциональный параметр, по умолчанию, равен 1000.\n",
    "\n",
    "    Returns\n",
    "    -------\n",
    "    bootstrap_metrics: List[float]\n",
    "        Список со значениями метрики качества на каждой бустреп выборке.\n",
    "\n",
    "    \"\"\"\n",
    "    scores = []\n",
    "\n",
    "    if isinstance(y_true, pd.Series):\n",
    "        y_true = y_true.values\n",
    "\n",
    "    bootstrap_idx = create_bootstrap_samples(y_true)\n",
    "    for idx in bootstrap_idx:\n",
    "        y_true_bootstrap = y_true[idx]\n",
    "        y_pred_bootstrap = y_pred[idx]\n",
    "\n",
    "        score = metric(y_true_bootstrap, y_pred_bootstrap)\n",
    "        scores.append(score)\n",
    "\n",
    "    return scores\n",
    "\n",
    "\n",
    "def calculate_confidence_interval(scores: list, conf_interval: float = 0.95) -> Tuple[float]:\n",
    "    \"\"\"\n",
    "    Вычисление доверительного интервала.\n",
    "\n",
    "    Parameters\n",
    "    ----------\n",
    "    scores: List[float / int]\n",
    "        Список с оценками изучаемой величины.\n",
    "\n",
    "    conf_interval: float, optional, default = 0.95\n",
    "        Уровень доверия для построения интервала.\n",
    "        Опциональный параметр, по умолчанию, равен 0.95.\n",
    "\n",
    "    Returns\n",
    "    -------\n",
    "    conf_interval: Tuple[float]\n",
    "        Кортеж с границами доверительного интервала.\n",
    "\n",
    "    \"\"\"\n",
    "    left_bound = np.percentile(\n",
    "        scores, ((1 - conf_interval) / 2) * 100\n",
    "    )\n",
    "    right_bound = np.percentile(\n",
    "        scores, (conf_interval + ((1 - conf_interval) / 2)) * 100\n",
    "    )\n",
    "\n",
    "    return left_bound, right_bound"
   ]
  },
  {
   "cell_type": "code",
   "execution_count": 242,
   "metadata": {},
   "outputs": [
    {
     "data": {
      "text/plain": [
       "(0.8693573726047599, 0.9194794543718229)"
      ]
     },
     "execution_count": 242,
     "metadata": {},
     "output_type": "execute_result"
    }
   ],
   "source": [
    "np.random.seed(1)\n",
    "scores = create_bootstrap_metrics(y_test, model.predict_proba(x_test)[:, 1], roc_auc_score)\n",
    "calculate_confidence_interval(scores)"
   ]
  },
  {
   "cell_type": "markdown",
   "metadata": {},
   "source": [
    "Доверительный интервал получился довольно широким, но значение метрики на публичном борде всё же попало в доверительный интервал."
   ]
  },
  {
   "cell_type": "markdown",
   "metadata": {},
   "source": [
    "#### Задание 4: \n",
    "Выполнить Adversarial Validation на основе данных из обучения / теста, подобрать объема из обучающей выборки, которые сильно похожи на объекты из тестовой выборки, и использовать их в качестве валидационного набора. Сделать выводы о полученных результатах."
   ]
  },
  {
   "cell_type": "code",
   "execution_count": 669,
   "metadata": {},
   "outputs": [],
   "source": [
    "X_adv = pd.concat([train, test])\n",
    "y_adv = np.hstack((np.ones(train.shape[0]), np.zeros(test.shape[0])))\n",
    "X_adv = X_adv.reset_index(drop=True)\n",
    "X_adv = X_adv.drop(drop_features, axis=1)"
   ]
  },
  {
   "cell_type": "markdown",
   "metadata": {},
   "source": [
    "Для обучения отделения теста от трейна применим простую модель с глубиной 3, но с числом деревьев 500."
   ]
  },
  {
   "cell_type": "code",
   "execution_count": 670,
   "metadata": {},
   "outputs": [
    {
     "name": "stdout",
     "output_type": "stream",
     "text": [
      "CPU times: user 3min 35s, sys: 6.37 s, total: 3min 41s\n",
      "Wall time: 15.2 s\n"
     ]
    },
    {
     "data": {
      "text/plain": [
       "<catboost.core.CatBoostClassifier at 0x7f773d760970>"
      ]
     },
     "execution_count": 670,
     "metadata": {},
     "output_type": "execute_result"
    }
   ],
   "source": [
    "%%time\n",
    "model = catb.CatBoostClassifier(cat_features=cat_features, eval_metric='AUC', n_estimators=500, \n",
    "                                max_depth=3, early_stopping_rounds=10, learning_rate=0.1, \n",
    "                                silent=True, random_state=rs)\n",
    "model.fit(X_adv, y_adv)"
   ]
  },
  {
   "cell_type": "code",
   "execution_count": 671,
   "metadata": {},
   "outputs": [],
   "source": [
    "y_pred_4 = model.predict_proba(train.drop(drop_features, axis=1))[:, 1]"
   ]
  },
  {
   "cell_type": "code",
   "execution_count": 672,
   "metadata": {},
   "outputs": [
    {
     "data": {
      "image/png": "[encoded data removed]",
      "text/plain": [
       "<Figure size 432x288 with 1 Axes>"
      ]
     },
     "metadata": {
      "needs_background": "light"
     },
     "output_type": "display_data"
    }
   ],
   "source": [
    "plt.hist(y_pred_4, bins=50)\n",
    "plt.show()"
   ]
  },
  {
   "cell_type": "markdown",
   "metadata": {},
   "source": [
    "Чтобы обучающая выборка была не слишком маленькая, возьмём порог в 0.3."
   ]
  },
  {
   "cell_type": "code",
   "execution_count": 673,
   "metadata": {},
   "outputs": [
    {
     "name": "stdout",
     "output_type": "stream",
     "text": [
      "x_train.shape = 30945 rows, 391 cols\n",
      "x_valid.shape = 6631 rows, 391 cols\n",
      "x_test.shape = 6632 rows, 391 cols\n",
      "x_public.shape = 75000 rows, 391 cols\n"
     ]
    }
   ],
   "source": [
    "mask = y_pred_4 > 0.3\n",
    "x_train, x_valid = train_test_split(train.loc[mask].drop(drop_features, axis=1), train_size=0.7, shuffle=True, \n",
    "                                    random_state=rs)\n",
    "y_train, y_valid = train_test_split(train.loc[mask][target], train_size=0.7, shuffle=True, random_state=rs)\n",
    "x_valid, x_test = train_test_split(x_valid, train_size=0.5, random_state=rs, shuffle=True)\n",
    "y_valid, y_test = train_test_split(y_valid, train_size=0.5, random_state=rs, shuffle=True)\n",
    "x_public = test.drop(drop_features, axis=1)\n",
    "y_public = test[target]\n",
    "\n",
    "print(\"x_train.shape = {} rows, {} cols\".format(*x_train.shape))\n",
    "print(\"x_valid.shape = {} rows, {} cols\".format(*x_valid.shape))\n",
    "print(\"x_test.shape = {} rows, {} cols\".format(*x_test.shape))\n",
    "print(\"x_public.shape = {} rows, {} cols\".format(*x_public.shape))"
   ]
  },
  {
   "cell_type": "code",
   "execution_count": 674,
   "metadata": {},
   "outputs": [
    {
     "data": {
      "image/png": "[encoded data removed]",
      "text/plain": [
       "<Figure size 432x288 with 1 Axes>"
      ]
     },
     "metadata": {
      "needs_background": "light"
     },
     "output_type": "display_data"
    },
    {
     "name": "stdout",
     "output_type": "stream",
     "text": [
      "[0.8561910584128928, 0.8641284755839305, 0.8714859740708456, 0.8743110762371064, 0.8743110762371064, 0.8743110762371064, 0.8743110762371064, 0.8743110762371064]\n",
      "CPU times: user 6min 58s, sys: 14.6 s, total: 7min 12s\n",
      "Wall time: 32.4 s\n"
     ]
    }
   ],
   "source": [
    "%%time\n",
    "train_score = []\n",
    "valid_score = []\n",
    "test_score = []\n",
    "public_score = []\n",
    "eval_set = [(x_valid, y_valid)]\n",
    "n_estimators = [50, 100, 150, 200, 250, 300, 350, 400]\n",
    "\n",
    "for e in n_estimators:\n",
    "    model = catb.CatBoostClassifier(cat_features=cat_features, eval_metric='AUC', n_estimators=e,\n",
    "                                    max_depth=7, early_stopping_rounds=10, learning_rate=0.1,\n",
    "                                    silent=True, random_state=rs)\n",
    "    model.fit(x_train, y_train, eval_set=eval_set)\n",
    "    train_score.append(roc_auc_score(y_train, model.predict_proba(x_train)[:, 1]))\n",
    "    valid_score.append(roc_auc_score(y_valid, model.predict_proba(x_valid)[:, 1]))\n",
    "    test_score.append(roc_auc_score(y_test, model.predict_proba(x_test)[:, 1]))\n",
    "    public_score.append(roc_auc_score(y_public, model.predict_proba(x_public)[:, 1]))\n",
    "    \n",
    "plt.plot(n_estimators, train_score, label='train')\n",
    "plt.plot(n_estimators, valid_score, label='valid')\n",
    "plt.plot(n_estimators, test_score, label='test')\n",
    "plt.plot(n_estimators, public_score, label='public')\n",
    "plt.xlabel('n_estimators')\n",
    "plt.ylabel('roc_auc')\n",
    "plt.legend()\n",
    "plt.show()\n",
    "\n",
    "print(public_score)"
   ]
  },
  {
   "cell_type": "markdown",
   "metadata": {},
   "source": [
    "Возьмём число деревьев, при котором метрика максимальна, т.е. 200"
   ]
  },
  {
   "cell_type": "code",
   "execution_count": 675,
   "metadata": {},
   "outputs": [
    {
     "name": "stdout",
     "output_type": "stream",
     "text": [
      "0.8743110762371064\n"
     ]
    }
   ],
   "source": [
    "model = catb.CatBoostClassifier(cat_features=cat_features, eval_metric='AUC', n_estimators=200,\n",
    "                                max_depth=7, early_stopping_rounds=10, learning_rate=0.1,\n",
    "                                silent=True, random_state=rs)\n",
    "model.fit(x_train, y_train, eval_set=eval_set)\n",
    "print(roc_auc_score(y_public, model.predict_proba(x_public)[:, 1]))"
   ]
  },
  {
   "cell_type": "code",
   "execution_count": 676,
   "metadata": {},
   "outputs": [
    {
     "data": {
      "text/plain": [
       "(0.8742064517609345, 0.9334870880219798)"
      ]
     },
     "execution_count": 676,
     "metadata": {},
     "output_type": "execute_result"
    }
   ],
   "source": [
    "np.random.seed(1)\n",
    "scores = create_bootstrap_metrics(y_test, model.predict_proba(x_test)[:, 1], roc_auc_score)\n",
    "calculate_confidence_interval(scores)"
   ]
  },
  {
   "cell_type": "markdown",
   "metadata": {},
   "source": [
    "Значение метрики в 0.8743110762371064 входит в доверительный интервал, пусть и почти на грани. Значение получилось чуть лучше чем в предыдущих пунктах"
   ]
  },
  {
   "cell_type": "markdown",
   "metadata": {},
   "source": [
    "#### Задание 5:\n",
    "Сделать KFold / StratifiedKFold валидацию (на ваше усмотрение), оценить получаемые качество и разброс по метрике качества. Сделать выводы об устойчивости кросс-валидации, сходимости оценки на кросс-валидации и отложенном наборе данных;"
   ]
  },
  {
   "cell_type": "code",
   "execution_count": 707,
   "metadata": {},
   "outputs": [],
   "source": [
    "def make_cross_validation(X: pd.DataFrame,\n",
    "                          y: pd.Series,\n",
    "                          X_test: pd.DataFrame,\n",
    "                          y_test: pd.Series,\n",
    "                          estimator: object,\n",
    "                          metric: callable,\n",
    "                          cv_strategy):\n",
    "    \"\"\"\n",
    "    Кросс-валидация.\n",
    "\n",
    "    Parameters\n",
    "    ----------\n",
    "    X: pd.DataFrame\n",
    "        Матрица признаков.\n",
    "\n",
    "    y: pd.Series\n",
    "        Вектор целевой переменной.\n",
    "\n",
    "    estimator: callable\n",
    "        Объект модели для обучения.\n",
    "\n",
    "    metric: callable\n",
    "        Метрика для оценки качества решения.\n",
    "        Ожидается, что на вход будет передана функция,\n",
    "        которая принимает 2 аргумента: y_true, y_pred.\n",
    "\n",
    "    cv_strategy: cross-validation generator\n",
    "        Объект для описания стратегии кросс-валидации.\n",
    "        Ожидается, что на вход будет передан объект типа\n",
    "        KFold или StratifiedKFold.\n",
    "\n",
    "    Returns\n",
    "    -------\n",
    "    oof_score: float\n",
    "        Значение метрики качества на OOF-прогнозах.\n",
    "\n",
    "    fold_train_scores: List[float]\n",
    "        Значение метрики качества на каждом обучающем датасете кросс-валидации.\n",
    "\n",
    "    fold_valid_scores: List[float]\n",
    "        Значение метрики качества на каждом валидационном датасете кросс-валидации.\n",
    "\n",
    "    oof_predictions: np.array\n",
    "        Прогнозы на OOF.\n",
    "\n",
    "    \"\"\"\n",
    "    estimators, fold_train_scores, fold_valid_scores, fold_test_scores = [], [], [], []\n",
    "    oof_predictions = np.zeros(X.shape[0])\n",
    "\n",
    "    for fold_number, (train_idx, valid_idx) in enumerate(cv_strategy.split(X, y)):\n",
    "        x_train, x_valid = X.loc[train_idx], X.loc[valid_idx]\n",
    "        y_train, y_valid = y.loc[train_idx], y.loc[valid_idx]\n",
    "\n",
    "        estimator.fit(x_train, y_train)\n",
    "        y_train_pred = estimator.predict_proba(x_train)[:, 1]\n",
    "        y_valid_pred = estimator.predict_proba(x_valid)[:, 1]\n",
    "        y_test_pred = estimator.predict_proba(X_test)[:, 1]\n",
    "\n",
    "        fold_train_scores.append(metric(y_train, y_train_pred))\n",
    "        fold_valid_scores.append(metric(y_valid, y_valid_pred))\n",
    "        fold_test_scores.append(metric(y_test, y_test_pred))\n",
    "        oof_predictions[valid_idx] = y_valid_pred\n",
    "        left_bound, right_bound = calculate_confidence_interval(create_bootstrap_metrics(y_test, \n",
    "                                                                                         y_test_pred, metric))\n",
    "        \n",
    "        msg = (\n",
    "            f\"Fold: {fold_number+1}, train-observations = {len(train_idx)}, \"\n",
    "            f\"valid-observations = {len(valid_idx)}\\n\"\n",
    "            f\"train-score = {round(fold_train_scores[fold_number], 4)}, \"\n",
    "            f\"valid-score = {round(fold_valid_scores[fold_number], 4)}, \" \n",
    "            f\"test-score = {round(fold_test_scores[fold_number], 4)}, \" \n",
    "            f\"confidence_interval = {round(left_bound, 4), round(right_bound, 4)}\"\n",
    "        )\n",
    "        print(msg)\n",
    "        print(\"=\"*69)\n",
    "        estimators.append(estimator)\n",
    "\n",
    "    oof_score = metric(y, oof_predictions)\n",
    "    print(f\"CV-results train: {round(np.mean(fold_train_scores), 4)} +/- {round(np.std(fold_train_scores), 3)}\")\n",
    "    print(f\"CV-results valid: {round(np.mean(fold_valid_scores), 4)} +/- {round(np.std(fold_valid_scores), 3)}\")\n",
    "    print(f\"CV-results test: {round(np.mean(fold_test_scores), 4)} +/- {round(np.std(fold_test_scores), 3)}\")\n",
    "    print(f\"OOF-score = {round(oof_score, 4)}\")\n",
    "\n",
    "    return estimators, oof_score, fold_train_scores, fold_valid_scores, fold_test_scores, oof_predictions"
   ]
  },
  {
   "cell_type": "code",
   "execution_count": 708,
   "metadata": {},
   "outputs": [],
   "source": [
    "model = catb.CatBoostClassifier(cat_features=cat_features, eval_metric='AUC', n_estimators=200, \n",
    "                                max_depth=4, early_stopping_rounds=10, learning_rate=0.1,\n",
    "                                silent=True, random_state=rs)"
   ]
  },
  {
   "cell_type": "code",
   "execution_count": 709,
   "metadata": {},
   "outputs": [
    {
     "name": "stdout",
     "output_type": "stream",
     "text": [
      "Fold: 1, train-observations = 40000, valid-observations = 10001\n",
      "train-score = 0.9204, valid-score = 0.8432, test-score = 0.8686, confidence_interval = (0.8581, 0.8789)\n",
      "=====================================================================\n",
      "Fold: 2, train-observations = 40001, valid-observations = 10000\n",
      "train-score = 0.9165, valid-score = 0.8796, test-score = 0.8708, confidence_interval = (0.861, 0.88)\n",
      "=====================================================================\n",
      "Fold: 3, train-observations = 40001, valid-observations = 10000\n",
      "train-score = 0.9115, valid-score = 0.9002, test-score = 0.873, confidence_interval = (0.8628, 0.8824)\n",
      "=====================================================================\n",
      "Fold: 4, train-observations = 40001, valid-observations = 10000\n",
      "train-score = 0.9149, valid-score = 0.8849, test-score = 0.8742, confidence_interval = (0.8643, 0.884)\n",
      "=====================================================================\n",
      "Fold: 5, train-observations = 40001, valid-observations = 10000\n",
      "train-score = 0.9116, valid-score = 0.9045, test-score = 0.8756, confidence_interval = (0.8659, 0.885)\n",
      "=====================================================================\n",
      "CV-results train: 0.915 +/- 0.003\n",
      "CV-results valid: 0.8825 +/- 0.022\n",
      "CV-results test: 0.8724 +/- 0.002\n",
      "OOF-score = 0.8813\n"
     ]
    }
   ],
   "source": [
    "cv_strategy = KFold(n_splits=5, random_state=rs)\n",
    "\n",
    "estimators, oof_score, fold_train_scores, fold_valid_scores, fold_test_scores, oof_predictions = \\\n",
    "make_cross_validation(\n",
    "    train.drop(drop_features, axis=1), train[target], \n",
    "    test.drop(drop_features, axis=1), test[target],\n",
    "    model, metric=roc_auc_score, cv_strategy=cv_strategy\n",
    ")"
   ]
  },
  {
   "cell_type": "markdown",
   "metadata": {},
   "source": [
    "Значение метрики на отложенной выборке получилась равной 0.8724 +/- 0.002. Стандартное отклонение составило меньше процента, что говорит об устойчивости модели. Все метрики отложенной выборки попали в доверительный интервал."
   ]
  },
  {
   "cell_type": "markdown",
   "metadata": {},
   "source": [
    "#### Задание 6 * (опциональное): \n",
    "Сделать Hold-Out валидацию по времени (TransactionDT), повторить процедуры из п.1 / п.2 (на ваш выбор). Построить доверительный интервал, сравнить качество на тестовой выборке с полученным доверительным интервалом. Сделать выводы."
   ]
  },
  {
   "cell_type": "code",
   "execution_count": 710,
   "metadata": {},
   "outputs": [
    {
     "name": "stdout",
     "output_type": "stream",
     "text": [
      "Fold: 1, train-observations = 8336, valid-observations = 8333\n",
      "train-score = 0.9344, valid-score = 0.8605, test-score = 0.8386, confidence_interval = (0.8281, 0.849)\n",
      "=====================================================================\n",
      "Fold: 2, train-observations = 16669, valid-observations = 8333\n",
      "train-score = 0.9269, valid-score = 0.8785, test-score = 0.8643, confidence_interval = (0.854, 0.874)\n",
      "=====================================================================\n",
      "Fold: 3, train-observations = 25002, valid-observations = 8333\n",
      "train-score = 0.9198, valid-score = 0.8812, test-score = 0.8678, confidence_interval = (0.8582, 0.8771)\n",
      "=====================================================================\n",
      "Fold: 4, train-observations = 33335, valid-observations = 8333\n",
      "train-score = 0.9127, valid-score = 0.898, test-score = 0.8731, confidence_interval = (0.8637, 0.8829)\n",
      "=====================================================================\n",
      "Fold: 5, train-observations = 41668, valid-observations = 8333\n",
      "train-score = 0.9127, valid-score = 0.8985, test-score = 0.8782, confidence_interval = (0.8688, 0.8867)\n",
      "=====================================================================\n",
      "CV-results train: 0.9213 +/- 0.008\n",
      "CV-results valid: 0.8833 +/- 0.014\n",
      "CV-results test: 0.8644 +/- 0.014\n",
      "OOF-score = 0.7758\n"
     ]
    }
   ],
   "source": [
    "estimators, oof_score, fold_train_scores, fold_valid_scores, fold_test_scores, oof_predictions = \\\n",
    "make_cross_validation(\n",
    "    train.drop(drop_features, axis=1), train[target], \n",
    "    test.drop(drop_features, axis=1), test[target],\n",
    "    model, metric=roc_auc_score, cv_strategy=TimeSeriesSplit(n_splits=5)\n",
    ")"
   ]
  },
  {
   "cell_type": "markdown",
   "metadata": {},
   "source": [
    "Значение метрики на отложенной выборке получилась равной 0.8644 +/- 0.014, т.е. с большим разбросом нежели в п.5.\n",
    "Стандартное отклонение составило меньше двух процентов. Все метрики отложенной выборки попали в доверительный интервал."
   ]
  },
  {
   "cell_type": "code",
   "execution_count": null,
   "metadata": {},
   "outputs": [],
   "source": []
  }
 ],
 "metadata": {
  "kernelspec": {
   "display_name": "Python 3",
   "language": "python",
   "name": "python3"
  },
  "language_info": {
   "codemirror_mode": {
    "name": "ipython",
    "version": 3
   },
   "file_extension": ".py",
   "mimetype": "text/x-python",
   "name": "python",
   "nbconvert_exporter": "python",
   "pygments_lexer": "ipython3",
   "version": "3.8.5"
  }
 },
 "nbformat": 4,
 "nbformat_minor": 4
}
